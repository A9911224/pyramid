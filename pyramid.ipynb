{
 "cells": [
  {
   "cell_type": "code",
   "execution_count": 1,
   "metadata": {},
   "outputs": [
    {
     "name": "stdout",
     "output_type": "stream",
     "text": [
      "Populating the interactive namespace from numpy and matplotlib\n"
     ]
    }
   ],
   "source": [
    "%pylab inline\n",
    "import numpy as np\n",
    "import matplotlib.pyplot as plt\n",
    "import pandas as pd"
   ]
  },
  {
   "cell_type": "code",
   "execution_count": 95,
   "metadata": {},
   "outputs": [
    {
     "name": "stdout",
     "output_type": "stream",
     "text": [
      "你想蓋幾層的金字塔：20\n",
      "                    \n",
      "                   * \n",
      "                  * * \n",
      "                 * * * \n",
      "                * * * * \n",
      "               * * * * * \n",
      "              * * * * * * \n",
      "             * * * * * * * \n",
      "            * * * * * * * * \n",
      "           * * * * * * * * * \n",
      "          * * * * * * * * * * \n",
      "         * * * * * * * * * * * \n",
      "        * * * * * * * * * * * * \n",
      "       * * * * * * * * * * * * * \n",
      "      * * * * * * * * * * * * * * \n",
      "     * * * * * * * * * * * * * * * \n",
      "    * * * * * * * * * * * * * * * * \n",
      "   * * * * * * * * * * * * * * * * * \n",
      "  * * * * * * * * * * * * * * * * * * \n",
      " * * * * * * * * * * * * * * * * * * * \n",
      "* * * * * * * * * * * * * * * * * * * * \n"
     ]
    }
   ],
   "source": [
    "def tree(a):\n",
    "    for i in range(a+1):\n",
    "        print(\" \"*(a-i)+\"* \"*i)\n",
    "b = int(input(\"你想蓋幾層的金字塔：\"))\n",
    "tree(b)"
   ]
  },
  {
   "cell_type": "code",
   "execution_count": null,
   "metadata": {
    "collapsed": true
   },
   "outputs": [],
   "source": []
  }
 ],
 "metadata": {
  "kernelspec": {
   "display_name": "Python 3",
   "language": "python",
   "name": "python3"
  },
  "language_info": {
   "codemirror_mode": {
    "name": "ipython",
    "version": 3
   },
   "file_extension": ".py",
   "mimetype": "text/x-python",
   "name": "python",
   "nbconvert_exporter": "python",
   "pygments_lexer": "ipython3",
   "version": "3.6.1"
  }
 },
 "nbformat": 4,
 "nbformat_minor": 2
}
